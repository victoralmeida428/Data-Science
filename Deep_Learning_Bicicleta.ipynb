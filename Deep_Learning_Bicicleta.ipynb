{
  "nbformat": 4,
  "nbformat_minor": 0,
  "metadata": {
    "colab": {
      "provenance": [],
      "authorship_tag": "ABX9TyO1zpE+53HKkb8AH9i99BZO",
      "include_colab_link": true
    },
    "kernelspec": {
      "name": "python3",
      "display_name": "Python 3"
    },
    "language_info": {
      "name": "python"
    }
  },
  "cells": [
    {
      "cell_type": "markdown",
      "metadata": {
        "id": "view-in-github",
        "colab_type": "text"
      },
      "source": [
        "<a href=\"https://colab.research.google.com/github/victoralmeida428/Data-Science/blob/main/Deep_Learning_Bicicleta.ipynb\" target=\"_parent\"><img src=\"https://colab.research.google.com/assets/colab-badge.svg\" alt=\"Open In Colab\"/></a>"
      ]
    },
    {
      "cell_type": "code",
      "execution_count": 5,
      "metadata": {
        "id": "Sdt6_aiFTfnv"
      },
      "outputs": [],
      "source": [
        "import pandas as pd\n",
        "import seaborn as sns\n",
        "import numpy as np\n",
        "import matplotlib.pyplot as plt\n",
        "from sklearn.preprocessing import StandardScaler\n",
        "from tensorflow.keras.models import Sequential\n",
        "from tensorflow.keras.layers import Dense"
      ]
    },
    {
      "cell_type": "code",
      "source": [
        "bike = pd.read_csv('bicicletas.csv')\n",
        "bike['datas'] = pd.to_datetime(bike['datas'])"
      ],
      "metadata": {
        "id": "ipPU7cTLT0z8"
      },
      "execution_count": 6,
      "outputs": []
    },
    {
      "cell_type": "code",
      "source": [
        "bike.head()"
      ],
      "metadata": {
        "colab": {
          "base_uri": "https://localhost:8080/",
          "height": 337
        },
        "id": "kIYNoELZT4pL",
        "outputId": "6987bbdb-85e1-40a5-87ef-47dcbd939941"
      },
      "execution_count": 7,
      "outputs": [
        {
          "output_type": "execute_result",
          "data": {
            "text/plain": [
              "                datas  contagem  temperatura  sensacao  umidade  vel_vento  \\\n",
              "0 2015-01-04 00:00:00       182          3.0       2.0     93.0        6.0   \n",
              "1 2015-01-04 01:00:00       138          3.0       2.5     93.0        5.0   \n",
              "2 2015-01-04 02:00:00       134          2.5       2.5     96.5        0.0   \n",
              "3 2015-01-04 03:00:00        72          2.0       2.0    100.0        0.0   \n",
              "4 2015-01-04 04:00:00        47          2.0       0.0     93.0        6.5   \n",
              "\n",
              "   clima  feriado  final_ds  estacao  \n",
              "0    3.0      0.0       1.0      3.0  \n",
              "1    1.0      0.0       1.0      3.0  \n",
              "2    1.0      0.0       1.0      3.0  \n",
              "3    1.0      0.0       1.0      3.0  \n",
              "4    1.0      0.0       1.0      3.0  "
            ],
            "text/html": [
              "\n",
              "  <div id=\"df-280c509e-017d-4c90-ad8d-81d639ef6b7f\">\n",
              "    <div class=\"colab-df-container\">\n",
              "      <div>\n",
              "<style scoped>\n",
              "    .dataframe tbody tr th:only-of-type {\n",
              "        vertical-align: middle;\n",
              "    }\n",
              "\n",
              "    .dataframe tbody tr th {\n",
              "        vertical-align: top;\n",
              "    }\n",
              "\n",
              "    .dataframe thead th {\n",
              "        text-align: right;\n",
              "    }\n",
              "</style>\n",
              "<table border=\"1\" class=\"dataframe\">\n",
              "  <thead>\n",
              "    <tr style=\"text-align: right;\">\n",
              "      <th></th>\n",
              "      <th>datas</th>\n",
              "      <th>contagem</th>\n",
              "      <th>temperatura</th>\n",
              "      <th>sensacao</th>\n",
              "      <th>umidade</th>\n",
              "      <th>vel_vento</th>\n",
              "      <th>clima</th>\n",
              "      <th>feriado</th>\n",
              "      <th>final_ds</th>\n",
              "      <th>estacao</th>\n",
              "    </tr>\n",
              "  </thead>\n",
              "  <tbody>\n",
              "    <tr>\n",
              "      <th>0</th>\n",
              "      <td>2015-01-04 00:00:00</td>\n",
              "      <td>182</td>\n",
              "      <td>3.0</td>\n",
              "      <td>2.0</td>\n",
              "      <td>93.0</td>\n",
              "      <td>6.0</td>\n",
              "      <td>3.0</td>\n",
              "      <td>0.0</td>\n",
              "      <td>1.0</td>\n",
              "      <td>3.0</td>\n",
              "    </tr>\n",
              "    <tr>\n",
              "      <th>1</th>\n",
              "      <td>2015-01-04 01:00:00</td>\n",
              "      <td>138</td>\n",
              "      <td>3.0</td>\n",
              "      <td>2.5</td>\n",
              "      <td>93.0</td>\n",
              "      <td>5.0</td>\n",
              "      <td>1.0</td>\n",
              "      <td>0.0</td>\n",
              "      <td>1.0</td>\n",
              "      <td>3.0</td>\n",
              "    </tr>\n",
              "    <tr>\n",
              "      <th>2</th>\n",
              "      <td>2015-01-04 02:00:00</td>\n",
              "      <td>134</td>\n",
              "      <td>2.5</td>\n",
              "      <td>2.5</td>\n",
              "      <td>96.5</td>\n",
              "      <td>0.0</td>\n",
              "      <td>1.0</td>\n",
              "      <td>0.0</td>\n",
              "      <td>1.0</td>\n",
              "      <td>3.0</td>\n",
              "    </tr>\n",
              "    <tr>\n",
              "      <th>3</th>\n",
              "      <td>2015-01-04 03:00:00</td>\n",
              "      <td>72</td>\n",
              "      <td>2.0</td>\n",
              "      <td>2.0</td>\n",
              "      <td>100.0</td>\n",
              "      <td>0.0</td>\n",
              "      <td>1.0</td>\n",
              "      <td>0.0</td>\n",
              "      <td>1.0</td>\n",
              "      <td>3.0</td>\n",
              "    </tr>\n",
              "    <tr>\n",
              "      <th>4</th>\n",
              "      <td>2015-01-04 04:00:00</td>\n",
              "      <td>47</td>\n",
              "      <td>2.0</td>\n",
              "      <td>0.0</td>\n",
              "      <td>93.0</td>\n",
              "      <td>6.5</td>\n",
              "      <td>1.0</td>\n",
              "      <td>0.0</td>\n",
              "      <td>1.0</td>\n",
              "      <td>3.0</td>\n",
              "    </tr>\n",
              "  </tbody>\n",
              "</table>\n",
              "</div>\n",
              "      <button class=\"colab-df-convert\" onclick=\"convertToInteractive('df-280c509e-017d-4c90-ad8d-81d639ef6b7f')\"\n",
              "              title=\"Convert this dataframe to an interactive table.\"\n",
              "              style=\"display:none;\">\n",
              "        \n",
              "  <svg xmlns=\"http://www.w3.org/2000/svg\" height=\"24px\"viewBox=\"0 0 24 24\"\n",
              "       width=\"24px\">\n",
              "    <path d=\"M0 0h24v24H0V0z\" fill=\"none\"/>\n",
              "    <path d=\"M18.56 5.44l.94 2.06.94-2.06 2.06-.94-2.06-.94-.94-2.06-.94 2.06-2.06.94zm-11 1L8.5 8.5l.94-2.06 2.06-.94-2.06-.94L8.5 2.5l-.94 2.06-2.06.94zm10 10l.94 2.06.94-2.06 2.06-.94-2.06-.94-.94-2.06-.94 2.06-2.06.94z\"/><path d=\"M17.41 7.96l-1.37-1.37c-.4-.4-.92-.59-1.43-.59-.52 0-1.04.2-1.43.59L10.3 9.45l-7.72 7.72c-.78.78-.78 2.05 0 2.83L4 21.41c.39.39.9.59 1.41.59.51 0 1.02-.2 1.41-.59l7.78-7.78 2.81-2.81c.8-.78.8-2.07 0-2.86zM5.41 20L4 18.59l7.72-7.72 1.47 1.35L5.41 20z\"/>\n",
              "  </svg>\n",
              "      </button>\n",
              "      \n",
              "  <style>\n",
              "    .colab-df-container {\n",
              "      display:flex;\n",
              "      flex-wrap:wrap;\n",
              "      gap: 12px;\n",
              "    }\n",
              "\n",
              "    .colab-df-convert {\n",
              "      background-color: #E8F0FE;\n",
              "      border: none;\n",
              "      border-radius: 50%;\n",
              "      cursor: pointer;\n",
              "      display: none;\n",
              "      fill: #1967D2;\n",
              "      height: 32px;\n",
              "      padding: 0 0 0 0;\n",
              "      width: 32px;\n",
              "    }\n",
              "\n",
              "    .colab-df-convert:hover {\n",
              "      background-color: #E2EBFA;\n",
              "      box-shadow: 0px 1px 2px rgba(60, 64, 67, 0.3), 0px 1px 3px 1px rgba(60, 64, 67, 0.15);\n",
              "      fill: #174EA6;\n",
              "    }\n",
              "\n",
              "    [theme=dark] .colab-df-convert {\n",
              "      background-color: #3B4455;\n",
              "      fill: #D2E3FC;\n",
              "    }\n",
              "\n",
              "    [theme=dark] .colab-df-convert:hover {\n",
              "      background-color: #434B5C;\n",
              "      box-shadow: 0px 1px 3px 1px rgba(0, 0, 0, 0.15);\n",
              "      filter: drop-shadow(0px 1px 2px rgba(0, 0, 0, 0.3));\n",
              "      fill: #FFFFFF;\n",
              "    }\n",
              "  </style>\n",
              "\n",
              "      <script>\n",
              "        const buttonEl =\n",
              "          document.querySelector('#df-280c509e-017d-4c90-ad8d-81d639ef6b7f button.colab-df-convert');\n",
              "        buttonEl.style.display =\n",
              "          google.colab.kernel.accessAllowed ? 'block' : 'none';\n",
              "\n",
              "        async function convertToInteractive(key) {\n",
              "          const element = document.querySelector('#df-280c509e-017d-4c90-ad8d-81d639ef6b7f');\n",
              "          const dataTable =\n",
              "            await google.colab.kernel.invokeFunction('convertToInteractive',\n",
              "                                                     [key], {});\n",
              "          if (!dataTable) return;\n",
              "\n",
              "          const docLinkHtml = 'Like what you see? Visit the ' +\n",
              "            '<a target=\"_blank\" href=https://colab.research.google.com/notebooks/data_table.ipynb>data table notebook</a>'\n",
              "            + ' to learn more about interactive tables.';\n",
              "          element.innerHTML = '';\n",
              "          dataTable['output_type'] = 'display_data';\n",
              "          await google.colab.output.renderOutput(dataTable, element);\n",
              "          const docLink = document.createElement('div');\n",
              "          docLink.innerHTML = docLinkHtml;\n",
              "          element.appendChild(docLink);\n",
              "        }\n",
              "      </script>\n",
              "    </div>\n",
              "  </div>\n",
              "  "
            ]
          },
          "metadata": {},
          "execution_count": 7
        }
      ]
    },
    {
      "cell_type": "code",
      "source": [
        "sns.lineplot(x = 'datas', y = 'contagem', data = bike)\n",
        "plt.xticks(rotation=70)"
      ],
      "metadata": {
        "colab": {
          "base_uri": "https://localhost:8080/",
          "height": 348
        },
        "id": "6852y2kwUS26",
        "outputId": "ee0eb9a1-daf9-414e-b576-52b0a9765308"
      },
      "execution_count": 8,
      "outputs": [
        {
          "output_type": "execute_result",
          "data": {
            "text/plain": [
              "(array([735599., 735689., 735780., 735872., 735964., 736055., 736146.,\n",
              "        736238., 736330.]), <a list of 9 Text major ticklabel objects>)"
            ]
          },
          "metadata": {},
          "execution_count": 8
        },
        {
          "output_type": "display_data",
          "data": {
            "text/plain": [
              "<Figure size 432x288 with 1 Axes>"
            ],
            "image/png": "[encoded data removed]"
          },
          "metadata": {
            "needs_background": "light"
          }
        }
      ]
    },
    {
      "cell_type": "code",
      "source": [
        "sc = StandardScaler()\n",
        "sc.fit(bike['contagem'].values.reshape(-1,1))"
      ],
      "metadata": {
        "colab": {
          "base_uri": "https://localhost:8080/"
        },
        "id": "obHSXfoLUzYY",
        "outputId": "09e07201-52fb-4c26-dae5-b71c230ea9e2"
      },
      "execution_count": 9,
      "outputs": [
        {
          "output_type": "execute_result",
          "data": {
            "text/plain": [
              "StandardScaler()"
            ]
          },
          "metadata": {},
          "execution_count": 9
        }
      ]
    },
    {
      "cell_type": "code",
      "source": [
        "y = sc.transform(bike['contagem'].values.reshape(-1,1))"
      ],
      "metadata": {
        "id": "cAWs13goWq5G"
      },
      "execution_count": 10,
      "outputs": []
    },
    {
      "cell_type": "code",
      "source": [
        "tamanho_treino = int(len(bike)*0.9)\n",
        "tamanho_teste = len(bike)-tamanho_treino\n",
        "y_treino = y[:tamanho_treino]\n",
        "y_teste = y[tamanho_treino:]"
      ],
      "metadata": {
        "id": "EFaQRnlQWk4z"
      },
      "execution_count": 11,
      "outputs": []
    },
    {
      "cell_type": "code",
      "source": [
        "sns.lineplot(x = 'datas', y = y_treino[:,0], data=bike[:tamanho_treino], label = 'treino')\n",
        "sns.lineplot(x = 'datas', y = y_teste[:,0], data = bike[tamanho_treino:], label = 'teste')\n",
        "plt.xticks(rotation=70)"
      ],
      "metadata": {
        "colab": {
          "base_uri": "https://localhost:8080/",
          "height": 348
        },
        "id": "i-oEPahGYWO-",
        "outputId": "b1c1809c-b306-43a4-a345-d9be897aadd1"
      },
      "execution_count": 14,
      "outputs": [
        {
          "output_type": "execute_result",
          "data": {
            "text/plain": [
              "(array([735599., 735689., 735780., 735872., 735964., 736055., 736146.,\n",
              "        736238., 736330.]), <a list of 9 Text major ticklabel objects>)"
            ]
          },
          "metadata": {},
          "execution_count": 14
        },
        {
          "output_type": "display_data",
          "data": {
            "text/plain": [
              "<Figure size 432x288 with 1 Axes>"
            ],
            "image/png": "[encoded data removed]"
          },
          "metadata": {
            "needs_background": "light"
          }
        }
      ]
    },
    {
      "cell_type": "code",
      "source": [
        "def separa_dados(vetor, npassos):\n",
        "  x_novo, y_novo = [],[]\n",
        "  for i in range(npassos, vetor.shape[0]):\n",
        "    x_novo.append(list(vetor.loc[i - npassos: i - 1]))\n",
        "    y_novo.append(vetor.loc[i])\n",
        "  x_novo, y_novo = np.array(x_novo), np.array(y_novo)\n",
        "  return x_novo, y_novo"
      ],
      "metadata": {
        "id": "ETkfowTKYX8e"
      },
      "execution_count": 15,
      "outputs": []
    },
    {
      "cell_type": "code",
      "source": [
        "vetor = pd.DataFrame(y_treino)[0]"
      ],
      "metadata": {
        "id": "6uxpNZ2UenDM"
      },
      "execution_count": 16,
      "outputs": []
    },
    {
      "cell_type": "code",
      "source": [
        "xtreino_novo, ytreino_novo = separa_dados(vetor, 10)"
      ],
      "metadata": {
        "id": "55HZ1ITufC49"
      },
      "execution_count": 25,
      "outputs": []
    },
    {
      "cell_type": "code",
      "source": [
        "regressor = Sequential()"
      ],
      "metadata": {
        "id": "ZdEXQeb0e9qK"
      },
      "execution_count": 27,
      "outputs": []
    },
    {
      "cell_type": "code",
      "source": [
        "regressor.add(Dense(8, input_dim = 10 , kernel_initializer = 'random_uniform' , \n",
        "                    activation = 'linear', use_bias = True))\n",
        "regressor.add(Dense(64, kernel_initializer = 'random_uniform',\n",
        "                    activation = 'sigmoid', use_bias = True))\n",
        "regressor.add(Dense(1, kernel_initializer = 'random_uniform',\n",
        "                    activation = 'linear', use_bias = True ))"
      ],
      "metadata": {
        "id": "xzNyJt5rFMNP"
      },
      "execution_count": 28,
      "outputs": []
    },
    {
      "cell_type": "code",
      "source": [
        "regressor.compile(loss = 'mean_squared_error', optimizer='adam')"
      ],
      "metadata": {
        "id": "4umaHPJrHKV-"
      },
      "execution_count": 29,
      "outputs": []
    },
    {
      "cell_type": "code",
      "source": [
        "regressor.summary()"
      ],
      "metadata": {
        "colab": {
          "base_uri": "https://localhost:8080/"
        },
        "id": "5lHRJB4vHxno",
        "outputId": "ec2bc95d-72dd-496d-b394-df248a0b9147"
      },
      "execution_count": 30,
      "outputs": [
        {
          "output_type": "stream",
          "name": "stdout",
          "text": [
            "Model: \"sequential_2\"\n",
            "_________________________________________________________________\n",
            " Layer (type)                Output Shape              Param #   \n",
            "=================================================================\n",
            " dense_4 (Dense)             (None, 8)                 88        \n",
            "                                                                 \n",
            " dense_5 (Dense)             (None, 64)                576       \n",
            "                                                                 \n",
            " dense_6 (Dense)             (None, 1)                 65        \n",
            "                                                                 \n",
            "=================================================================\n",
            "Total params: 729\n",
            "Trainable params: 729\n",
            "Non-trainable params: 0\n",
            "_________________________________________________________________\n"
          ]
        }
      ]
    },
    {
      "cell_type": "code",
      "source": [
        "regressor.fit(xtreino_novo, ytreino_novo, epochs = 200)"
      ],
      "metadata": {
        "colab": {
          "base_uri": "https://localhost:8080/"
        },
        "id": "nKrWU0ysH0x3",
        "outputId": "41ddc270-90d2-4f22-8597-7e283dd1a211"
      },
      "execution_count": 31,
      "outputs": [
        {
          "output_type": "stream",
          "name": "stdout",
          "text": [
            "Epoch 1/200\n",
            "490/490 [==============================] - 1s 2ms/step - loss: 0.5071\n",
            "Epoch 2/200\n",
            "490/490 [==============================] - 1s 2ms/step - loss: 0.2029\n",
            "Epoch 3/200\n",
            "490/490 [==============================] - 1s 2ms/step - loss: 0.1874\n",
            "Epoch 4/200\n",
            "490/490 [==============================] - 1s 2ms/step - loss: 0.1846\n",
            "Epoch 5/200\n",
            "490/490 [==============================] - 1s 2ms/step - loss: 0.1829\n",
            "Epoch 6/200\n",
            "490/490 [==============================] - 1s 2ms/step - loss: 0.1812\n",
            "Epoch 7/200\n",
            "490/490 [==============================] - 1s 2ms/step - loss: 0.1800\n",
            "Epoch 8/200\n",
            "490/490 [==============================] - 1s 2ms/step - loss: 0.1797\n",
            "Epoch 9/200\n",
            "490/490 [==============================] - 1s 2ms/step - loss: 0.1797\n",
            "Epoch 10/200\n",
            "490/490 [==============================] - 1s 2ms/step - loss: 0.1791\n",
            "Epoch 11/200\n",
            "490/490 [==============================] - 1s 2ms/step - loss: 0.1799\n",
            "Epoch 12/200\n",
            "490/490 [==============================] - 1s 2ms/step - loss: 0.1779\n",
            "Epoch 13/200\n",
            "490/490 [==============================] - 1s 2ms/step - loss: 0.1797\n",
            "Epoch 14/200\n",
            "490/490 [==============================] - 1s 2ms/step - loss: 0.1796\n",
            "Epoch 15/200\n",
            "490/490 [==============================] - 1s 2ms/step - loss: 0.1787\n",
            "Epoch 16/200\n",
            "490/490 [==============================] - 1s 2ms/step - loss: 0.1794\n",
            "Epoch 17/200\n",
            "490/490 [==============================] - 1s 2ms/step - loss: 0.1787\n",
            "Epoch 18/200\n",
            "490/490 [==============================] - 1s 2ms/step - loss: 0.1792\n",
            "Epoch 19/200\n",
            "490/490 [==============================] - 1s 2ms/step - loss: 0.1787\n",
            "Epoch 20/200\n",
            "490/490 [==============================] - 1s 2ms/step - loss: 0.1779\n",
            "Epoch 21/200\n",
            "490/490 [==============================] - 1s 2ms/step - loss: 0.1741\n",
            "Epoch 22/200\n",
            "490/490 [==============================] - 1s 2ms/step - loss: 0.1648\n",
            "Epoch 23/200\n",
            "490/490 [==============================] - 1s 2ms/step - loss: 0.1561\n",
            "Epoch 24/200\n",
            "490/490 [==============================] - 1s 2ms/step - loss: 0.1490\n",
            "Epoch 25/200\n",
            "490/490 [==============================] - 1s 2ms/step - loss: 0.1450\n",
            "Epoch 26/200\n",
            "490/490 [==============================] - 1s 2ms/step - loss: 0.1426\n",
            "Epoch 27/200\n",
            "490/490 [==============================] - 1s 2ms/step - loss: 0.1397\n",
            "Epoch 28/200\n",
            "490/490 [==============================] - 1s 2ms/step - loss: 0.1331\n",
            "Epoch 29/200\n",
            "490/490 [==============================] - 1s 2ms/step - loss: 0.1247\n",
            "Epoch 30/200\n",
            "490/490 [==============================] - 1s 2ms/step - loss: 0.1196\n",
            "Epoch 31/200\n",
            "490/490 [==============================] - 1s 2ms/step - loss: 0.1137\n",
            "Epoch 32/200\n",
            "490/490 [==============================] - 1s 2ms/step - loss: 0.1075\n",
            "Epoch 33/200\n",
            "490/490 [==============================] - 1s 2ms/step - loss: 0.1016\n",
            "Epoch 34/200\n",
            "490/490 [==============================] - 1s 2ms/step - loss: 0.0955\n",
            "Epoch 35/200\n",
            "490/490 [==============================] - 1s 2ms/step - loss: 0.0910\n",
            "Epoch 36/200\n",
            "490/490 [==============================] - 1s 2ms/step - loss: 0.0872\n",
            "Epoch 37/200\n",
            "490/490 [==============================] - 1s 2ms/step - loss: 0.0845\n",
            "Epoch 38/200\n",
            "490/490 [==============================] - 1s 2ms/step - loss: 0.0824\n",
            "Epoch 39/200\n",
            "490/490 [==============================] - 1s 2ms/step - loss: 0.0806\n",
            "Epoch 40/200\n",
            "490/490 [==============================] - 1s 2ms/step - loss: 0.0788\n",
            "Epoch 41/200\n",
            "490/490 [==============================] - 1s 2ms/step - loss: 0.0776\n",
            "Epoch 42/200\n",
            "490/490 [==============================] - 1s 2ms/step - loss: 0.0762\n",
            "Epoch 43/200\n",
            "490/490 [==============================] - 1s 2ms/step - loss: 0.0753\n",
            "Epoch 44/200\n",
            "490/490 [==============================] - 2s 3ms/step - loss: 0.0748\n",
            "Epoch 45/200\n",
            "490/490 [==============================] - 1s 3ms/step - loss: 0.0739\n",
            "Epoch 46/200\n",
            "490/490 [==============================] - 1s 2ms/step - loss: 0.0727\n",
            "Epoch 47/200\n",
            "490/490 [==============================] - 1s 2ms/step - loss: 0.0719\n",
            "Epoch 48/200\n",
            "490/490 [==============================] - 1s 2ms/step - loss: 0.0703\n",
            "Epoch 49/200\n",
            "490/490 [==============================] - 1s 2ms/step - loss: 0.0686\n",
            "Epoch 50/200\n",
            "490/490 [==============================] - 1s 2ms/step - loss: 0.0665\n",
            "Epoch 51/200\n",
            "490/490 [==============================] - 1s 2ms/step - loss: 0.0650\n",
            "Epoch 52/200\n",
            "490/490 [==============================] - 1s 2ms/step - loss: 0.0629\n",
            "Epoch 53/200\n",
            "490/490 [==============================] - 1s 2ms/step - loss: 0.0613\n",
            "Epoch 54/200\n",
            "490/490 [==============================] - 1s 2ms/step - loss: 0.0601\n",
            "Epoch 55/200\n",
            "490/490 [==============================] - 1s 2ms/step - loss: 0.0589\n",
            "Epoch 56/200\n",
            "490/490 [==============================] - 1s 2ms/step - loss: 0.0580\n",
            "Epoch 57/200\n",
            "490/490 [==============================] - 1s 2ms/step - loss: 0.0564\n",
            "Epoch 58/200\n",
            "490/490 [==============================] - 1s 2ms/step - loss: 0.0557\n",
            "Epoch 59/200\n",
            "490/490 [==============================] - 1s 2ms/step - loss: 0.0553\n",
            "Epoch 60/200\n",
            "490/490 [==============================] - 1s 2ms/step - loss: 0.0545\n",
            "Epoch 61/200\n",
            "490/490 [==============================] - 1s 2ms/step - loss: 0.0531\n",
            "Epoch 62/200\n",
            "490/490 [==============================] - 1s 2ms/step - loss: 0.0524\n",
            "Epoch 63/200\n",
            "490/490 [==============================] - 1s 2ms/step - loss: 0.0520\n",
            "Epoch 64/200\n",
            "490/490 [==============================] - 1s 2ms/step - loss: 0.0513\n",
            "Epoch 65/200\n",
            "490/490 [==============================] - 2s 4ms/step - loss: 0.0504\n",
            "Epoch 66/200\n",
            "490/490 [==============================] - 2s 3ms/step - loss: 0.0501\n",
            "Epoch 67/200\n",
            "490/490 [==============================] - 1s 2ms/step - loss: 0.0490\n",
            "Epoch 68/200\n",
            "490/490 [==============================] - 1s 2ms/step - loss: 0.0483\n",
            "Epoch 69/200\n",
            "490/490 [==============================] - 1s 2ms/step - loss: 0.0478\n",
            "Epoch 70/200\n",
            "490/490 [==============================] - 1s 2ms/step - loss: 0.0471\n",
            "Epoch 71/200\n",
            "490/490 [==============================] - 1s 2ms/step - loss: 0.0470\n",
            "Epoch 72/200\n",
            "490/490 [==============================] - 1s 2ms/step - loss: 0.0464\n",
            "Epoch 73/200\n",
            "490/490 [==============================] - 1s 2ms/step - loss: 0.0461\n",
            "Epoch 74/200\n",
            "490/490 [==============================] - 1s 2ms/step - loss: 0.0455\n",
            "Epoch 75/200\n",
            "490/490 [==============================] - 1s 2ms/step - loss: 0.0450\n",
            "Epoch 76/200\n",
            "490/490 [==============================] - 1s 2ms/step - loss: 0.0445\n",
            "Epoch 77/200\n",
            "490/490 [==============================] - 1s 2ms/step - loss: 0.0442\n",
            "Epoch 78/200\n",
            "490/490 [==============================] - 1s 2ms/step - loss: 0.0438\n",
            "Epoch 79/200\n",
            "490/490 [==============================] - 1s 2ms/step - loss: 0.0434\n",
            "Epoch 80/200\n",
            "490/490 [==============================] - 1s 2ms/step - loss: 0.0430\n",
            "Epoch 81/200\n",
            "490/490 [==============================] - 1s 2ms/step - loss: 0.0427\n",
            "Epoch 82/200\n",
            "490/490 [==============================] - 1s 2ms/step - loss: 0.0421\n",
            "Epoch 83/200\n",
            "490/490 [==============================] - 1s 2ms/step - loss: 0.0419\n",
            "Epoch 84/200\n",
            "490/490 [==============================] - 1s 2ms/step - loss: 0.0415\n",
            "Epoch 85/200\n",
            "490/490 [==============================] - 1s 2ms/step - loss: 0.0414\n",
            "Epoch 86/200\n",
            "490/490 [==============================] - 1s 2ms/step - loss: 0.0410\n",
            "Epoch 87/200\n",
            "490/490 [==============================] - 1s 2ms/step - loss: 0.0403\n",
            "Epoch 88/200\n",
            "490/490 [==============================] - 1s 2ms/step - loss: 0.0401\n",
            "Epoch 89/200\n",
            "490/490 [==============================] - 1s 2ms/step - loss: 0.0399\n",
            "Epoch 90/200\n",
            "490/490 [==============================] - 1s 2ms/step - loss: 0.0393\n",
            "Epoch 91/200\n",
            "490/490 [==============================] - 1s 2ms/step - loss: 0.0391\n",
            "Epoch 92/200\n",
            "490/490 [==============================] - 1s 2ms/step - loss: 0.0391\n",
            "Epoch 93/200\n",
            "490/490 [==============================] - 1s 2ms/step - loss: 0.0388\n",
            "Epoch 94/200\n",
            "490/490 [==============================] - 1s 2ms/step - loss: 0.0384\n",
            "Epoch 95/200\n",
            "490/490 [==============================] - 1s 2ms/step - loss: 0.0382\n",
            "Epoch 96/200\n",
            "490/490 [==============================] - 1s 2ms/step - loss: 0.0380\n",
            "Epoch 97/200\n",
            "490/490 [==============================] - 1s 2ms/step - loss: 0.0378\n",
            "Epoch 98/200\n",
            "490/490 [==============================] - 1s 2ms/step - loss: 0.0375\n",
            "Epoch 99/200\n",
            "490/490 [==============================] - 1s 2ms/step - loss: 0.0371\n",
            "Epoch 100/200\n",
            "490/490 [==============================] - 1s 2ms/step - loss: 0.0372\n",
            "Epoch 101/200\n",
            "490/490 [==============================] - 1s 3ms/step - loss: 0.0372\n",
            "Epoch 102/200\n",
            "490/490 [==============================] - 1s 3ms/step - loss: 0.0368\n",
            "Epoch 103/200\n",
            "490/490 [==============================] - 1s 2ms/step - loss: 0.0364\n",
            "Epoch 104/200\n",
            "490/490 [==============================] - 1s 2ms/step - loss: 0.0362\n",
            "Epoch 105/200\n",
            "490/490 [==============================] - 1s 2ms/step - loss: 0.0362\n",
            "Epoch 106/200\n",
            "490/490 [==============================] - 1s 2ms/step - loss: 0.0362\n",
            "Epoch 107/200\n",
            "490/490 [==============================] - 1s 2ms/step - loss: 0.0357\n",
            "Epoch 108/200\n",
            "490/490 [==============================] - 1s 2ms/step - loss: 0.0360\n",
            "Epoch 109/200\n",
            "490/490 [==============================] - 1s 2ms/step - loss: 0.0355\n",
            "Epoch 110/200\n",
            "490/490 [==============================] - 1s 2ms/step - loss: 0.0353\n",
            "Epoch 111/200\n",
            "490/490 [==============================] - 1s 2ms/step - loss: 0.0353\n",
            "Epoch 112/200\n",
            "490/490 [==============================] - 1s 2ms/step - loss: 0.0348\n",
            "Epoch 113/200\n",
            "490/490 [==============================] - 1s 2ms/step - loss: 0.0349\n",
            "Epoch 114/200\n",
            "490/490 [==============================] - 1s 2ms/step - loss: 0.0345\n",
            "Epoch 115/200\n",
            "490/490 [==============================] - 1s 2ms/step - loss: 0.0346\n",
            "Epoch 116/200\n",
            "490/490 [==============================] - 1s 2ms/step - loss: 0.0343\n",
            "Epoch 117/200\n",
            "490/490 [==============================] - 1s 2ms/step - loss: 0.0343\n",
            "Epoch 118/200\n",
            "490/490 [==============================] - 1s 2ms/step - loss: 0.0338\n",
            "Epoch 119/200\n",
            "490/490 [==============================] - 1s 2ms/step - loss: 0.0339\n",
            "Epoch 120/200\n",
            "490/490 [==============================] - 1s 2ms/step - loss: 0.0337\n",
            "Epoch 121/200\n",
            "490/490 [==============================] - 1s 2ms/step - loss: 0.0335\n",
            "Epoch 122/200\n",
            "490/490 [==============================] - 1s 2ms/step - loss: 0.0333\n",
            "Epoch 123/200\n",
            "490/490 [==============================] - 1s 2ms/step - loss: 0.0332\n",
            "Epoch 124/200\n",
            "490/490 [==============================] - 1s 2ms/step - loss: 0.0330\n",
            "Epoch 125/200\n",
            "490/490 [==============================] - 1s 2ms/step - loss: 0.0327\n",
            "Epoch 126/200\n",
            "490/490 [==============================] - 1s 2ms/step - loss: 0.0327\n",
            "Epoch 127/200\n",
            "490/490 [==============================] - 1s 2ms/step - loss: 0.0328\n",
            "Epoch 128/200\n",
            "490/490 [==============================] - 1s 2ms/step - loss: 0.0326\n",
            "Epoch 129/200\n",
            "490/490 [==============================] - 1s 2ms/step - loss: 0.0324\n",
            "Epoch 130/200\n",
            "490/490 [==============================] - 1s 2ms/step - loss: 0.0322\n",
            "Epoch 131/200\n",
            "490/490 [==============================] - 1s 2ms/step - loss: 0.0322\n",
            "Epoch 132/200\n",
            "490/490 [==============================] - 1s 2ms/step - loss: 0.0323\n",
            "Epoch 133/200\n",
            "490/490 [==============================] - 1s 2ms/step - loss: 0.0322\n",
            "Epoch 134/200\n",
            "490/490 [==============================] - 1s 2ms/step - loss: 0.0319\n",
            "Epoch 135/200\n",
            "490/490 [==============================] - 1s 2ms/step - loss: 0.0320\n",
            "Epoch 136/200\n",
            "490/490 [==============================] - 1s 2ms/step - loss: 0.0318\n",
            "Epoch 137/200\n",
            "490/490 [==============================] - 1s 2ms/step - loss: 0.0316\n",
            "Epoch 138/200\n",
            "490/490 [==============================] - 1s 2ms/step - loss: 0.0318\n",
            "Epoch 139/200\n",
            "490/490 [==============================] - 1s 2ms/step - loss: 0.0316\n",
            "Epoch 140/200\n",
            "490/490 [==============================] - 1s 2ms/step - loss: 0.0315\n",
            "Epoch 141/200\n",
            "490/490 [==============================] - 1s 2ms/step - loss: 0.0314\n",
            "Epoch 142/200\n",
            "490/490 [==============================] - 1s 2ms/step - loss: 0.0315\n",
            "Epoch 143/200\n",
            "490/490 [==============================] - 1s 2ms/step - loss: 0.0313\n",
            "Epoch 144/200\n",
            "490/490 [==============================] - 1s 2ms/step - loss: 0.0313\n",
            "Epoch 145/200\n",
            "490/490 [==============================] - 1s 2ms/step - loss: 0.0314\n",
            "Epoch 146/200\n",
            "490/490 [==============================] - 1s 2ms/step - loss: 0.0312\n",
            "Epoch 147/200\n",
            "490/490 [==============================] - 1s 2ms/step - loss: 0.0309\n",
            "Epoch 148/200\n",
            "490/490 [==============================] - 1s 2ms/step - loss: 0.0308\n",
            "Epoch 149/200\n",
            "490/490 [==============================] - 1s 2ms/step - loss: 0.0311\n",
            "Epoch 150/200\n",
            "490/490 [==============================] - 1s 2ms/step - loss: 0.0306\n",
            "Epoch 151/200\n",
            "490/490 [==============================] - 1s 2ms/step - loss: 0.0307\n",
            "Epoch 152/200\n",
            "490/490 [==============================] - 1s 2ms/step - loss: 0.0305\n",
            "Epoch 153/200\n",
            "490/490 [==============================] - 1s 2ms/step - loss: 0.0305\n",
            "Epoch 154/200\n",
            "490/490 [==============================] - 1s 2ms/step - loss: 0.0306\n",
            "Epoch 155/200\n",
            "490/490 [==============================] - 1s 2ms/step - loss: 0.0304\n",
            "Epoch 156/200\n",
            "490/490 [==============================] - 1s 2ms/step - loss: 0.0302\n",
            "Epoch 157/200\n",
            "490/490 [==============================] - 1s 2ms/step - loss: 0.0302\n",
            "Epoch 158/200\n",
            "490/490 [==============================] - 1s 2ms/step - loss: 0.0302\n",
            "Epoch 159/200\n",
            "490/490 [==============================] - 1s 2ms/step - loss: 0.0300\n",
            "Epoch 160/200\n",
            "490/490 [==============================] - 1s 3ms/step - loss: 0.0301\n",
            "Epoch 161/200\n",
            "490/490 [==============================] - 1s 3ms/step - loss: 0.0298\n",
            "Epoch 162/200\n",
            "490/490 [==============================] - 1s 2ms/step - loss: 0.0298\n",
            "Epoch 163/200\n",
            "490/490 [==============================] - 1s 2ms/step - loss: 0.0298\n",
            "Epoch 164/200\n",
            "490/490 [==============================] - 1s 3ms/step - loss: 0.0296\n",
            "Epoch 165/200\n",
            "490/490 [==============================] - 1s 3ms/step - loss: 0.0297\n",
            "Epoch 166/200\n",
            "490/490 [==============================] - 1s 2ms/step - loss: 0.0294\n",
            "Epoch 167/200\n",
            "490/490 [==============================] - 1s 2ms/step - loss: 0.0296\n",
            "Epoch 168/200\n",
            "490/490 [==============================] - 1s 2ms/step - loss: 0.0296\n",
            "Epoch 169/200\n",
            "490/490 [==============================] - 1s 2ms/step - loss: 0.0293\n",
            "Epoch 170/200\n",
            "490/490 [==============================] - 1s 2ms/step - loss: 0.0294\n",
            "Epoch 171/200\n",
            "490/490 [==============================] - 1s 2ms/step - loss: 0.0291\n",
            "Epoch 172/200\n",
            "490/490 [==============================] - 1s 2ms/step - loss: 0.0291\n",
            "Epoch 173/200\n",
            "490/490 [==============================] - 1s 2ms/step - loss: 0.0290\n",
            "Epoch 174/200\n",
            "490/490 [==============================] - 1s 2ms/step - loss: 0.0289\n",
            "Epoch 175/200\n",
            "490/490 [==============================] - 1s 2ms/step - loss: 0.0290\n",
            "Epoch 176/200\n",
            "490/490 [==============================] - 1s 2ms/step - loss: 0.0290\n",
            "Epoch 177/200\n",
            "490/490 [==============================] - 1s 2ms/step - loss: 0.0288\n",
            "Epoch 178/200\n",
            "490/490 [==============================] - 1s 2ms/step - loss: 0.0290\n",
            "Epoch 179/200\n",
            "490/490 [==============================] - 1s 2ms/step - loss: 0.0287\n",
            "Epoch 180/200\n",
            "490/490 [==============================] - 1s 2ms/step - loss: 0.0288\n",
            "Epoch 181/200\n",
            "490/490 [==============================] - 1s 2ms/step - loss: 0.0288\n",
            "Epoch 182/200\n",
            "490/490 [==============================] - 1s 2ms/step - loss: 0.0286\n",
            "Epoch 183/200\n",
            "490/490 [==============================] - 1s 2ms/step - loss: 0.0287\n",
            "Epoch 184/200\n",
            "490/490 [==============================] - 1s 2ms/step - loss: 0.0285\n",
            "Epoch 185/200\n",
            "490/490 [==============================] - 1s 2ms/step - loss: 0.0283\n",
            "Epoch 186/200\n",
            "490/490 [==============================] - 1s 2ms/step - loss: 0.0284\n",
            "Epoch 187/200\n",
            "490/490 [==============================] - 1s 2ms/step - loss: 0.0284\n",
            "Epoch 188/200\n",
            "490/490 [==============================] - 1s 2ms/step - loss: 0.0285\n",
            "Epoch 189/200\n",
            "490/490 [==============================] - 1s 2ms/step - loss: 0.0284\n",
            "Epoch 190/200\n",
            "490/490 [==============================] - 1s 2ms/step - loss: 0.0282\n",
            "Epoch 191/200\n",
            "490/490 [==============================] - 1s 2ms/step - loss: 0.0282\n",
            "Epoch 192/200\n",
            "490/490 [==============================] - 1s 2ms/step - loss: 0.0283\n",
            "Epoch 193/200\n",
            "490/490 [==============================] - 1s 2ms/step - loss: 0.0283\n",
            "Epoch 194/200\n",
            "490/490 [==============================] - 1s 2ms/step - loss: 0.0282\n",
            "Epoch 195/200\n",
            "490/490 [==============================] - 1s 2ms/step - loss: 0.0281\n",
            "Epoch 196/200\n",
            "490/490 [==============================] - 1s 2ms/step - loss: 0.0281\n",
            "Epoch 197/200\n",
            "490/490 [==============================] - 1s 2ms/step - loss: 0.0280\n",
            "Epoch 198/200\n",
            "490/490 [==============================] - 1s 2ms/step - loss: 0.0281\n",
            "Epoch 199/200\n",
            "490/490 [==============================] - 1s 2ms/step - loss: 0.0280\n",
            "Epoch 200/200\n",
            "490/490 [==============================] - 1s 2ms/step - loss: 0.0278\n"
          ]
        },
        {
          "output_type": "execute_result",
          "data": {
            "text/plain": [
              "<keras.callbacks.History at 0x7f0a5ae81d90>"
            ]
          },
          "metadata": {},
          "execution_count": 31
        }
      ]
    },
    {
      "cell_type": "code",
      "source": [
        "y_treino_predict = regressor.predict(xtreino_novo)"
      ],
      "metadata": {
        "colab": {
          "base_uri": "https://localhost:8080/"
        },
        "id": "q3k238ISIN6v",
        "outputId": "0f591462-5954-403f-f306-08023ebf89da"
      },
      "execution_count": 49,
      "outputs": [
        {
          "output_type": "stream",
          "name": "stdout",
          "text": [
            "55/55 [==============================] - 0s 3ms/step\n"
          ]
        }
      ]
    },
    {
      "cell_type": "code",
      "source": [
        "vetor_teste = pd.DataFrame(y_teste)[0]"
      ],
      "metadata": {
        "id": "SpEuYbiEKX0f"
      },
      "execution_count": 34,
      "outputs": []
    },
    {
      "cell_type": "code",
      "source": [
        "xteste_novo, yteste_novo = separa_dados(vetor_teste, 10)"
      ],
      "metadata": {
        "id": "8ED8ZETlKam_"
      },
      "execution_count": 36,
      "outputs": []
    },
    {
      "cell_type": "code",
      "source": [
        "y_teste_predict = regressor.predict(xteste_novo)"
      ],
      "metadata": {
        "colab": {
          "base_uri": "https://localhost:8080/"
        },
        "id": "9CehrO5-KuiO",
        "outputId": "04e3d971-37f7-4b8a-e9ce-ba80c49380c2"
      },
      "execution_count": 50,
      "outputs": [
        {
          "output_type": "stream",
          "name": "stdout",
          "text": [
            "55/55 [==============================] - 0s 2ms/step\n"
          ]
        }
      ]
    },
    {
      "cell_type": "code",
      "source": [
        "resultado = pd.DataFrame(y_teste_predict)[0]\n",
        "resultado.shape[0]"
      ],
      "metadata": {
        "colab": {
          "base_uri": "https://localhost:8080/"
        },
        "id": "o5QwkA7GLOkd",
        "outputId": "2c0128a4-a89f-4403-f889-47a474976986"
      },
      "execution_count": 60,
      "outputs": [
        {
          "output_type": "execute_result",
          "data": {
            "text/plain": [
              "1732"
            ]
          },
          "metadata": {},
          "execution_count": 60
        }
      ]
    },
    {
      "cell_type": "code",
      "source": [
        "sns.lineplot(x = 'datas', y = y_treino[:,0], data=bike[:tamanho_treino], label = 'treino')\n",
        "sns.lineplot(x = 'datas', y = y_teste[:,0], data = bike[tamanho_treino:], label = 'Real')\n",
        "sns.lineplot(x = 'datas', y = resultado.values, data=bike[len(y_treino)+10:], label = 'simulado')\n",
        "plt.xticks(rotation=70)"
      ],
      "metadata": {
        "colab": {
          "base_uri": "https://localhost:8080/",
          "height": 348
        },
        "id": "DyvzDgOOK4HO",
        "outputId": "56608a63-ac15-4237-e40e-df7f6bcd74d8"
      },
      "execution_count": 68,
      "outputs": [
        {
          "output_type": "execute_result",
          "data": {
            "text/plain": [
              "(array([735599., 735689., 735780., 735872., 735964., 736055., 736146.,\n",
              "        736238., 736330.]), <a list of 9 Text major ticklabel objects>)"
            ]
          },
          "metadata": {},
          "execution_count": 68
        },
        {
          "output_type": "display_data",
          "data": {
            "text/plain": [
              "<Figure size 432x288 with 1 Axes>"
            ],
            "image/png": "[encoded data removed]"
          },
          "metadata": {
            "needs_background": "light"
          }
        }
      ]
    },
    {
      "cell_type": "code",
      "source": [
        "sns.lineplot(x = 'datas', y = y_teste[:,0], data = bike[tamanho_treino:], label = 'Real')\n",
        "sns.lineplot(x = 'datas', y = resultado.values, data=bike[len(y_treino)+10:], label = 'simulado')\n",
        "plt.xticks(rotation=70)"
      ],
      "metadata": {
        "colab": {
          "base_uri": "https://localhost:8080/",
          "height": 363
        },
        "id": "p7mNUlQqLwQr",
        "outputId": "8bd35b24-51e3-48cb-d631-8e7c87705d60"
      },
      "execution_count": 69,
      "outputs": [
        {
          "output_type": "execute_result",
          "data": {
            "text/plain": [
              "(array([736269., 736283., 736299., 736313., 736330.]),\n",
              " <a list of 5 Text major ticklabel objects>)"
            ]
          },
          "metadata": {},
          "execution_count": 69
        },
        {
          "output_type": "display_data",
          "data": {
            "text/plain": [
              "<Figure size 432x288 with 1 Axes>"
            ],
            "image/png": "[encoded data removed]"
          },
          "metadata": {
            "needs_background": "light"
          }
        }
      ]
    },
    {
      "cell_type": "code",
      "source": [],
      "metadata": {
        "id": "SfFZ56gmNt_W"
      },
      "execution_count": null,
      "outputs": []
    }
  ]
}