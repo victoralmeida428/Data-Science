{
  "nbformat": 4,
  "nbformat_minor": 0,
  "metadata": {
    "colab": {
      "provenance": [],
      "collapsed_sections": [
        "5TxGOWidQXWq",
        "DZtrEKlYSSYy"
      ],
      "authorship_tag": "ABX9TyMXAUrHB+nkM5F4KesarSeV",
      "include_colab_link": true
    },
    "kernelspec": {
      "name": "python3",
      "display_name": "Python 3"
    },
    "language_info": {
      "name": "python"
    }
  },
  "cells": [
    {
      "cell_type": "markdown",
      "metadata": {
        "id": "view-in-github",
        "colab_type": "text"
      },
      "source": [
        "<a href=\"https://colab.research.google.com/github/victoralmeida428/Data-Science/blob/main/Corretor%20Machine%20Learning.ipynb\" target=\"_parent\"><img src=\"https://colab.research.google.com/assets/colab-badge.svg\" alt=\"Open In Colab\"/></a>"
      ]
    },
    {
      "cell_type": "markdown",
      "source": [
        "# *Identificar se a qtd de letras do banco de dados é o suficiente*"
      ],
      "metadata": {
        "id": "5TxGOWidQXWq"
      }
    },
    {
      "cell_type": "code",
      "execution_count": 8,
      "metadata": {
        "id": "r7THPmmhi4i2"
      },
      "outputs": [],
      "source": [
        "with open(\"artigos.txt\", \"r\") as f:\n",
        "    artigos = f.read()\n",
        "\n"
      ]
    },
    {
      "cell_type": "code",
      "source": [
        "import nltk\n",
        "nltk.download('punkt')"
      ],
      "metadata": {
        "colab": {
          "base_uri": "https://localhost:8080/"
        },
        "id": "hvx9AT06n7hN",
        "outputId": "8098c6cc-b364-47c4-9082-c378f01f84e2"
      },
      "execution_count": 9,
      "outputs": [
        {
          "output_type": "stream",
          "name": "stderr",
          "text": [
            "[nltk_data] Downloading package punkt to /root/nltk_data...\n",
            "[nltk_data]   Package punkt is already up-to-date!\n"
          ]
        },
        {
          "output_type": "execute_result",
          "data": {
            "text/plain": [
              "True"
            ]
          },
          "metadata": {},
          "execution_count": 9
        }
      ]
    },
    {
      "cell_type": "code",
      "source": [
        "palavras_separadas = nltk.tokenize.word_tokenize(artigos)"
      ],
      "metadata": {
        "id": "w2zPSuIOpSFH"
      },
      "execution_count": 10,
      "outputs": []
    },
    {
      "cell_type": "code",
      "source": [
        "def separa_palavras(lista_tokens):\n",
        "  lista_de_palavras = []\n",
        "  for token in lista_tokens:\n",
        "    if token.isalpha():\n",
        "      lista_de_palavras.append(token)\n",
        "  return lista_de_palavras"
      ],
      "metadata": {
        "id": "t5HknhlipvfW"
      },
      "execution_count": 11,
      "outputs": []
    },
    {
      "cell_type": "code",
      "source": [
        "lista_palavras = separa_palavras(palavras_separadas)\n",
        "print(f'O número de palavras é {len(lista_palavras)}')"
      ],
      "metadata": {
        "colab": {
          "base_uri": "https://localhost:8080/"
        },
        "id": "HKSdkd5TsY3Z",
        "outputId": "904a576d-c906-4cee-fe36-e94c60ca0cb0"
      },
      "execution_count": 12,
      "outputs": [
        {
          "output_type": "stream",
          "name": "stdout",
          "text": [
            "O número de palavras é 403031\n"
          ]
        }
      ]
    },
    {
      "cell_type": "code",
      "source": [
        "def normalizacao (lista_palavra):\n",
        "  lista_normalizada = []\n",
        "  for token in lista_palavra:\n",
        "    lista_normalizada.append(token.lower())\n",
        "  return lista_normalizada\n",
        "lista_normalizada = normalizacao(lista_palavras)\n",
        "print(lista_normalizada[:6])\n",
        "print(f'O número de palavras é {len(set(lista_normalizada))}')"
      ],
      "metadata": {
        "colab": {
          "base_uri": "https://localhost:8080/"
        },
        "id": "tzQklFBps0gf",
        "outputId": "7007e547-79a2-4561-9872-ed20c11bae26"
      },
      "execution_count": 13,
      "outputs": [
        {
          "output_type": "stream",
          "name": "stdout",
          "text": [
            "['imagem', 'temos', 'a', 'seguinte', 'classe', 'que']\n",
            "O número de palavras é 18464\n"
          ]
        }
      ]
    },
    {
      "cell_type": "markdown",
      "source": [
        "# *Função do Corretor por Adição de Letra*"
      ],
      "metadata": {
        "id": "uabjVuXnQhQq"
      }
    },
    {
      "cell_type": "code",
      "source": [
        "def inserir_letras(fatias):\n",
        "  novas_palavras = []\n",
        "  letras = 'abcdefghijklmnopqrstuvwxyzàáâãèéêìíîòóôõùúûç'\n",
        "  for E, D in fatias:\n",
        "    for letra in letras:\n",
        "      novas_palavras.append(E + letra + D)\n",
        "  return novas_palavras"
      ],
      "metadata": {
        "id": "LAOJuMTqyE5E"
      },
      "execution_count": 14,
      "outputs": []
    },
    {
      "cell_type": "code",
      "source": [
        "def gerador_de_palavras(palavra):\n",
        "  fatias = []\n",
        "  for i in range(len(palavra)+1):\n",
        "    fatias.append((palavra[:i], palavra[i:]))\n",
        "  palavra_gerada = inserir_letras(fatias)\n",
        "  palavra_gerada += del_caracter(fatias)\n",
        "  palavra_gerada += switch_letra(fatias)\n",
        "  palavra_gerada += permuta(fatias)\n",
        "  return(palavra_gerada)\n"
      ],
      "metadata": {
        "id": "5u7YJpKQPKqA"
      },
      "execution_count": 36,
      "outputs": []
    },
    {
      "cell_type": "code",
      "source": [
        "frequencia = nltk.FreqDist(lista_normalizada)\n",
        "total_de_palavras = len(lista_normalizada)"
      ],
      "metadata": {
        "id": "l6kbwdIoMWPV"
      },
      "execution_count": 16,
      "outputs": []
    },
    {
      "cell_type": "code",
      "source": [
        "def probabilidade(palavra_gerada):\n",
        "  return frequencia[palavra_gerada]/total_de_palavras\n"
      ],
      "metadata": {
        "id": "xQcE9QEdNXca"
      },
      "execution_count": 17,
      "outputs": []
    },
    {
      "cell_type": "code",
      "source": [
        "def corretor (palavra):\n",
        "  palavras_geradas = gerador_de_palavras(palavra)\n",
        "  palavra_correta = max(palavras_geradas, key=probabilidade)\n",
        "  return palavra_correta"
      ],
      "metadata": {
        "id": "QvWGLLnxKECr"
      },
      "execution_count": 76,
      "outputs": []
    },
    {
      "cell_type": "code",
      "source": [
        "corretor(\"arvoe\")"
      ],
      "metadata": {
        "colab": {
          "base_uri": "https://localhost:8080/",
          "height": 36
        },
        "id": "IkiLfBWZOtHX",
        "outputId": "ce34678f-fd30-4d69-9c15-accc9c87d980"
      },
      "execution_count": 19,
      "outputs": [
        {
          "output_type": "execute_result",
          "data": {
            "text/plain": [
              "'arvore'"
            ],
            "application/vnd.google.colaboratory.intrinsic+json": {
              "type": "string"
            }
          },
          "metadata": {},
          "execution_count": 19
        }
      ]
    },
    {
      "cell_type": "markdown",
      "source": [
        "# *Avaliação do Corretor*"
      ],
      "metadata": {
        "id": "DZtrEKlYSSYy"
      }
    },
    {
      "cell_type": "code",
      "source": [
        "def cria_dados_teste (arquivo):\n",
        "  lista_palavras_teste = []\n",
        "  f = open(arquivo, 'r')\n",
        "  for linha in f:\n",
        "    correta, errada = linha.split()\n",
        "    lista_palavras_teste.append((correta, errada))\n",
        "  f.close()\n",
        "  return lista_palavras_teste\n"
      ],
      "metadata": {
        "id": "cw1RKsNHQptB"
      },
      "execution_count": 46,
      "outputs": []
    },
    {
      "cell_type": "code",
      "source": [
        "vocabulario = set(lista_normalizada)\n",
        "def avaliador (testes, vocabulario):\n",
        "  num_palavras = len(testes)\n",
        "  acertou = 0\n",
        "  desconhecida = 0\n",
        "  for correta, errada in testes:\n",
        "    palavra_correta = corretor(errada)\n",
        "    if palavra_correta == correta:\n",
        "      acertou += 1\n",
        "    else:\n",
        "      desconhecida += (correta not in vocabulario)\n",
        "  taxa_acerto = acertou/num_palavras\n",
        "  taxa_desconhecida = desconhecida/num_palavras\n",
        "  resposta = print(f'Taxa de acerto: {taxa_acerto*100:.2f}% \\n'\n",
        "                   f'Total de palavras: {num_palavras}\\n'\n",
        "                   f'Taxa de Palavras Desconhecidas: {taxa_desconhecida*100:.2f}%')\n",
        "                    \n",
        "  return resposta"
      ],
      "metadata": {
        "id": "eiMIloaFOvD_"
      },
      "execution_count": 59,
      "outputs": []
    },
    {
      "cell_type": "code",
      "source": [
        "teste = cria_dados_teste('palavras.txt')"
      ],
      "metadata": {
        "colab": {
          "base_uri": "https://localhost:8080/"
        },
        "id": "OQR2XYyMVDbT",
        "outputId": "c5f9bee3-2ff2-481e-eeff-4485938f3d5b"
      },
      "execution_count": 56,
      "outputs": [
        {
          "output_type": "stream",
          "name": "stdout",
          "text": [
            "Taxa de acerto: 76.34% \n",
            "Total de palavras: 186\n",
            "Taxa de Palavras Desconhecidas: 6.99%\n"
          ]
        }
      ]
    },
    {
      "cell_type": "markdown",
      "source": [
        "# *Deletando uma letra*"
      ],
      "metadata": {
        "id": "xCFZ-A0BV-vD"
      }
    },
    {
      "cell_type": "code",
      "source": [
        "def del_caracter(fatias):\n",
        "  novas_palavras = []\n",
        "  for E, D in fatias:\n",
        "    novas_palavras.append(E + D[1:])\n",
        "  return novas_palavras"
      ],
      "metadata": {
        "id": "Q3ys6JxeXba-"
      },
      "execution_count": 23,
      "outputs": []
    },
    {
      "cell_type": "markdown",
      "source": [],
      "metadata": {
        "id": "2tKvygqUs724"
      }
    },
    {
      "cell_type": "code",
      "source": [
        "avaliador(teste, vocabulario)"
      ],
      "metadata": {
        "colab": {
          "base_uri": "https://localhost:8080/"
        },
        "id": "j04-tp2iYiG-",
        "outputId": "4a6c8447-c43e-428a-a0b6-1bd9ea06e8b3"
      },
      "execution_count": 57,
      "outputs": [
        {
          "output_type": "stream",
          "name": "stdout",
          "text": [
            "Taxa de acerto: 76.34% \n",
            "Total de palavras: 186\n",
            "Taxa de Palavras Desconhecidas: 6.99%\n"
          ]
        }
      ]
    },
    {
      "cell_type": "markdown",
      "source": [
        "# *Troca e Permuta letra*"
      ],
      "metadata": {
        "id": "XxBj6p43bSTz"
      }
    },
    {
      "cell_type": "code",
      "source": [
        "def switch_letra(fatias):\n",
        "  novas_palavras = []\n",
        "  letras = 'abcdefghijklmnopqrstuvwxyzàáâãèéêìíîòóôõùúûç'\n",
        "  for E, D in fatias:\n",
        "    for letra in letras:\n",
        "      novas_palavras.append(E + letra + D[1:])\n",
        "  return novas_palavras"
      ],
      "metadata": {
        "id": "RY1zGA04ZPYV"
      },
      "execution_count": 25,
      "outputs": []
    },
    {
      "cell_type": "code",
      "source": [
        "avaliador(teste)"
      ],
      "metadata": {
        "colab": {
          "base_uri": "https://localhost:8080/"
        },
        "id": "I_Hz1okfb9DM",
        "outputId": "1c7d488a-63ca-40f4-a2f9-c3462b904d48"
      },
      "execution_count": 26,
      "outputs": [
        {
          "output_type": "stream",
          "name": "stdout",
          "text": [
            "Taxa de acerto: 76.34% \n",
            "Total de palavras: 186\n"
          ]
        }
      ]
    },
    {
      "cell_type": "code",
      "source": [
        "def permuta (fatias):\n",
        "  novas_palavras = []\n",
        "  for E, D in fatias:\n",
        "    if len(D)>1:\n",
        "      novas_palavras.append(E + D[1] + D[0] + D[2:])\n",
        "  return novas_palavras"
      ],
      "metadata": {
        "id": "gd1wVyVlb9ZM"
      },
      "execution_count": 42,
      "outputs": []
    },
    {
      "cell_type": "code",
      "source": [
        "avaliador(teste, vocabulario)"
      ],
      "metadata": {
        "colab": {
          "base_uri": "https://localhost:8080/"
        },
        "id": "Rs6Mx6tBlw2s",
        "outputId": "292bed75-50f6-461a-a23d-7440b3b32703"
      },
      "execution_count": 58,
      "outputs": [
        {
          "output_type": "stream",
          "name": "stdout",
          "text": [
            "Taxa de acerto: 76.34% \n",
            "Total de palavras: 186\n",
            "Taxa de Palavras Desconhecidas: 6.99%\n"
          ]
        }
      ]
    },
    {
      "cell_type": "markdown",
      "source": [
        "# *Gerador Turbinado*"
      ],
      "metadata": {
        "id": "bM2RKQpvtFsX"
      }
    },
    {
      "cell_type": "code",
      "source": [
        "def gerador_turbinado (palavras_geradas):\n",
        "  novas_palavras=[]\n",
        "  for palavra in palavras_geradas:\n",
        "    novas_palavras += gerador_de_palavras(palavra)\n",
        "  return novas_palavras"
      ],
      "metadata": {
        "id": "xlzcw8TrmcVa"
      },
      "execution_count": 64,
      "outputs": []
    },
    {
      "cell_type": "code",
      "source": [
        "palavras_turbinadas = gerador_turbinado(gerador_de_palavras(\"lógiiica\"))\n",
        "\"lógica\" in palavras_turbinadas"
      ],
      "metadata": {
        "colab": {
          "base_uri": "https://localhost:8080/"
        },
        "id": "LXGPQwMzthFY",
        "outputId": "91b6ed9c-dfbe-4a90-98eb-684243591559"
      },
      "execution_count": 73,
      "outputs": [
        {
          "output_type": "execute_result",
          "data": {
            "text/plain": [
              "True"
            ]
          },
          "metadata": {},
          "execution_count": 73
        }
      ]
    },
    {
      "cell_type": "code",
      "source": [
        "def novo_corretor (palavra):\n",
        "  palavras_geradas = gerador_de_palavras(palavra)\n",
        "  palavras_turbinadas = gerador_turbinado(gerador_de_palavras(palavra))\n",
        "  todas_palavras = set(palavras_geradas + palavras_turbinadas)\n",
        "  candidatos = [palavra]\n",
        "  for palavra in todas_palavras:\n",
        "    if palavra in todas_palavras:\n",
        "      candidatos.append(palavra)\n",
        "  palavra_correta = max(candidatos, key=probabilidade)\n",
        "  return palavra_correta"
      ],
      "metadata": {
        "id": "Ji6F0wW9twaf"
      },
      "execution_count": 82,
      "outputs": []
    },
    {
      "cell_type": "code",
      "source": [
        "def avaliador_novo (testes, vocabulario):\n",
        "  num_palavras = len(testes)\n",
        "  acertou = 0\n",
        "  desconhecida = 0\n",
        "\n",
        "  for correta, errada in testes:\n",
        "    palavra_correta = novo_corretor(errada)\n",
        "    desconhecida += (correta not in vocabulario)\n",
        "    if palavra_correta == correta:\n",
        "      acertou += 1     \n",
        "  taxa_acerto = acertou/num_palavras\n",
        "  taxa_desconhecida = desconhecida/num_palavras\n",
        "  resposta = print(f'Taxa de acerto: {taxa_acerto*100:.2f}% \\n'\n",
        "                   f'Total de palavras: {num_palavras}\\n'\n",
        "                   f'Taxa de Palavras Desconhecidas: {taxa_desconhecida*100:.2f}%')\n",
        "                    \n",
        "  return resposta"
      ],
      "metadata": {
        "id": "K_lYx0h-0_Yu"
      },
      "execution_count": 87,
      "outputs": []
    },
    {
      "cell_type": "markdown",
      "source": [
        "# *Comparando Corretores*"
      ],
      "metadata": {
        "id": "QtX9mWNU9Zbi"
      }
    },
    {
      "cell_type": "code",
      "source": [
        "print('eficiencia novo corretor')\n",
        "avaliador_novo(teste, vocabulario)\n",
        "print('eficiencia corretor antigo')\n",
        "avaliador(teste, vocabulario)"
      ],
      "metadata": {
        "colab": {
          "base_uri": "https://localhost:8080/"
        },
        "id": "ls3uHzTA4drm",
        "outputId": "e6fc0308-0481-489c-841b-1341ed5e4697"
      },
      "execution_count": 89,
      "outputs": [
        {
          "output_type": "stream",
          "name": "stdout",
          "text": [
            "eficiencia novo corretor\n",
            "Taxa de acerto: 55.38% \n",
            "Total de palavras: 186\n",
            "Taxa de Palavras Desconhecidas: 6.99%\n",
            "eficiencia corretor antigo\n",
            "Taxa de acerto: 76.34% \n",
            "Total de palavras: 186\n",
            "Taxa de Palavras Desconhecidas: 6.99%\n"
          ]
        }
      ]
    },
    {
      "cell_type": "code",
      "source": [],
      "metadata": {
        "id": "9M9r8dHj4gNN"
      },
      "execution_count": null,
      "outputs": []
    }
  ]
}